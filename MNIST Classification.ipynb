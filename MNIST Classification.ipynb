{
 "cells": [
  {
   "cell_type": "markdown",
   "id": "28061fc2",
   "metadata": {},
   "source": [
    "# Assignmet - 1 (Q No.: 0.4)"
   ]
  },
  {
   "cell_type": "code",
   "execution_count": 1,
   "id": "0400e3de",
   "metadata": {},
   "outputs": [],
   "source": [
    "import numpy as np\n",
    "import matplotlib\n",
    "from matplotlib import pyplot as plt\n",
    "import keras\n",
    "from keras.layers import Dense\n",
    "from keras.models import Sequential\n",
    "import tensorflow as tf"
   ]
  },
  {
   "cell_type": "markdown",
   "id": "cf29ab53",
   "metadata": {},
   "source": [
    "# Obtaining the dataset"
   ]
  },
  {
   "cell_type": "code",
   "execution_count": 2,
   "id": "6e36d877",
   "metadata": {},
   "outputs": [],
   "source": [
    "from keras.datasets import mnist"
   ]
  },
  {
   "cell_type": "code",
   "execution_count": 3,
   "id": "0cee71c6",
   "metadata": {},
   "outputs": [],
   "source": [
    "(X_train, y_train), (X_test, y_test) = keras.datasets.mnist.load_data()\n",
    "assert X_train.shape == (60000, 28, 28) #assert that there are 60000 images, each 28*28 pixels\n",
    "assert X_test.shape == (10000, 28, 28)  #assert that there are 10000 images, each 28*28 pixels\n",
    "assert y_train.shape == (60000,)        #assert that there are 60000 respective output values\n",
    "assert y_test.shape == (10000,)         #assert that there are 10000 respective output values"
   ]
  },
  {
   "cell_type": "markdown",
   "id": "85d24502",
   "metadata": {},
   "source": [
    "# Flattening the input to get feature vector"
   ]
  },
  {
   "cell_type": "code",
   "execution_count": 4,
   "id": "cad96106",
   "metadata": {},
   "outputs": [
    {
     "name": "stdout",
     "output_type": "stream",
     "text": [
      "X train shape: (60000, 784)\n",
      "X test shape: (10000, 784)\n"
     ]
    }
   ],
   "source": [
    "image_size = 28 * 28\n",
    "X_train = X_train.reshape(X_train.shape[0], image_size)\n",
    "X_test = X_test.reshape(X_test.shape[0], image_size)\n",
    "print(\"X train shape:\", X_train.shape)\n",
    "print(\"X test shape:\", X_test.shape)"
   ]
  },
  {
   "cell_type": "code",
   "execution_count": 5,
   "id": "61f7bf64",
   "metadata": {},
   "outputs": [],
   "source": [
    "# print(np.unique(y_train))"
   ]
  },
  {
   "cell_type": "code",
   "execution_count": 6,
   "id": "d681f799",
   "metadata": {},
   "outputs": [],
   "source": [
    "num_classes = 10\n",
    "y_train = tf.keras.utils.to_categorical(y_train, num_classes)\n",
    "y_test = tf.keras.utils.to_categorical(y_test, num_classes)\n"
   ]
  },
  {
   "cell_type": "code",
   "execution_count": 7,
   "id": "8d1c5ec3",
   "metadata": {},
   "outputs": [],
   "source": [
    "# y_train"
   ]
  },
  {
   "cell_type": "markdown",
   "id": "e734ca30",
   "metadata": {},
   "source": [
    "# Building the FNN using keras package"
   ]
  },
  {
   "cell_type": "code",
   "execution_count": 8,
   "id": "c84ab058",
   "metadata": {},
   "outputs": [
    {
     "name": "stdout",
     "output_type": "stream",
     "text": [
      "Model: \"sequential\"\n",
      "_________________________________________________________________\n",
      " Layer (type)                Output Shape              Param #   \n",
      "=================================================================\n",
      " dense (Dense)               (None, 32)                25120     \n",
      "                                                                 \n",
      " dense_1 (Dense)             (None, 10)                330       \n",
      "                                                                 \n",
      "=================================================================\n",
      "Total params: 25,450\n",
      "Trainable params: 25,450\n",
      "Non-trainable params: 0\n",
      "_________________________________________________________________\n"
     ]
    }
   ],
   "source": [
    "model = Sequential()\n",
    "\n",
    "model.add(Dense(units = 32, activation = 'sigmoid', input_shape = (image_size,))) #Hidden Layer\n",
    "model.add(Dense(units = num_classes, activation = 'softmax')) #output layer\n",
    "model.compile(optimizer = \"sgd\", loss = 'categorical_crossentropy', metrics = ['accuracy'])\n",
    "model.summary()"
   ]
  },
  {
   "cell_type": "markdown",
   "id": "36468b17",
   "metadata": {},
   "source": [
    "# Fitting the model"
   ]
  },
  {
   "cell_type": "code",
   "execution_count": 9,
   "id": "f851fda2",
   "metadata": {},
   "outputs": [],
   "source": [
    "history = model.fit(X_train, y_train, batch_size = 128, epochs = 100, validation_data=(X_test, y_test),verbose = False)"
   ]
  },
  {
   "cell_type": "markdown",
   "id": "92de3487",
   "metadata": {},
   "source": [
    "# Plotting Training Loss and Test Loss for iterations"
   ]
  },
  {
   "cell_type": "code",
   "execution_count": 10,
   "id": "dd6eb136",
   "metadata": {},
   "outputs": [
    {
     "data": {
      "image/png": "[encoded data removed]",
      "text/plain": [
       "<Figure size 432x288 with 1 Axes>"
      ]
     },
     "metadata": {
      "needs_background": "light"
     },
     "output_type": "display_data"
    }
   ],
   "source": [
    "plt.plot(history.history['loss'])\n",
    "plt.plot(history.history['val_loss'])\n",
    "plt.xlabel('Iterations')\n",
    "plt.ylabel('Loss')\n",
    "plt.legend(['Training Loss','Test Loss'])\n",
    "plt.title(\"Loss Graph (Training Set and Test Set)\")\n",
    "plt.show()"
   ]
  },
  {
   "cell_type": "markdown",
   "id": "c7cee766",
   "metadata": {},
   "source": [
    "# Overall accuracy and loss values"
   ]
  },
  {
   "cell_type": "code",
   "execution_count": 11,
   "id": "7412fd67",
   "metadata": {},
   "outputs": [
    {
     "name": "stdout",
     "output_type": "stream",
     "text": [
      "Training set\n",
      " Loss = 0.1993\t Accuracy = 0.9416\n",
      "\n",
      "Test set\n",
      " Loss = 0.2256\t Accuracy = 0.9365\n",
      "\n"
     ]
    }
   ],
   "source": [
    "loss_train, accuracy_train = model.evaluate(X_train, y_train, verbose = False)\n",
    "loss_test, accuracy_test = model.evaluate(X_test, y_test, verbose = False)\n",
    "\n",
    "print(f\"Training set\\n Loss = {round(loss_train,4)}\\t Accuracy = {round(accuracy_train,4)}\\n\")\n",
    "print(f\"Test set\\n Loss = {round(loss_test,4)}\\t Accuracy = {round(accuracy_test,4)}\\n\")"
   ]
  },
  {
   "cell_type": "markdown",
   "id": "34db5a37",
   "metadata": {},
   "source": [
    "# References"
   ]
  },
  {
   "cell_type": "markdown",
   "id": "83f4b561",
   "metadata": {},
   "source": [
    "Code references:<br>\n",
    "1. https://colab.research.google.com/drive/1U0sRZdxVUn8LbQN9KidMaomKt2MPJ2-o#forceEdit=true&sandboxMode=true&scrollTo=XaR6ncOmHNNw\n",
    "2. https://medium.com/tebs-lab/how-to-classify-mnist-digits-with-different-neural-network-architectures-39c75a0f03e3\n",
    "\n",
    "Other resources: <br>\n",
    "https://keras.io/api/datasets/mnist/#load_data-function"
   ]
  }
 ],
 "metadata": {
  "kernelspec": {
   "display_name": "Python 3 (ipykernel)",
   "language": "python",
   "name": "python3"
  },
  "language_info": {
   "codemirror_mode": {
    "name": "ipython",
    "version": 3
   },
   "file_extension": ".py",
   "mimetype": "text/x-python",
   "name": "python",
   "nbconvert_exporter": "python",
   "pygments_lexer": "ipython3",
   "version": "3.9.7"
  }
 },
 "nbformat": 4,
 "nbformat_minor": 5
}
